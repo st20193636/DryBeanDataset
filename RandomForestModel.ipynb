{
  "nbformat": 4,
  "nbformat_minor": 0,
  "metadata": {
    "kernelspec": {
      "display_name": "Python 3",
      "language": "python",
      "name": "python3"
    },
    "language_info": {
      "codemirror_mode": {
        "name": "ipython",
        "version": 3
      },
      "file_extension": ".py",
      "mimetype": "text/x-python",
      "name": "python",
      "nbconvert_exporter": "python",
      "pygments_lexer": "ipython3",
      "version": "3.8.5"
    },
    "colab": {
      "name": "RandomForestModel.ipynb",
      "provenance": []
    }
  },
  "cells": [
    {
      "cell_type": "markdown",
      "metadata": {
        "id": "vgmNmobhnBc4"
      },
      "source": [
        "#Code for CIS7031, Dr Ambikesh Jayal, ajayal@cardiffmet.ac.uk\n",
        "View .dot tree file at https://dreampuf.github.io/GraphvizOnline\n",
        "\n",
        "RandomForest: https://scikit-learn.org/stable/modules/generated/sklearn.ensemble.RandomForestRegressor.html"
      ]
    },
    {
      "cell_type": "code",
      "metadata": {
        "id": "esnZIls6nBdC",
        "outputId": "78fe2140-c675-4878-990e-acb5dc5a2b2c"
      },
      "source": [
        "# Pandas is used for data manipulation\n",
        "import pandas as pd\n",
        "import numpy as np\n",
        "\n",
        "#df = pd.read_csv(\"BostonHousingData/boston_housing_modified.csv\")\n",
        "\n",
        "url=\"https://raw.githubusercontent.com/ambi1999/mldataset/main/Boston_housing_dataset_generic_modified_by_ambi/boston_housing_dataset_generic_modified_by_ambi.csv\"\n",
        "df = pd.read_csv(url)\n",
        "\n",
        "#independent_variables=['CRIM', 'ZN', 'INDUS', 'CHAS', 'NOX', 'RM', 'AGE', 'DIS', 'RAD', 'TAX', 'PTRATIO', 'B', 'LSTAT', 'greenarea', 'internetfacility', 'MDEV', 'investmentrisk']\n",
        "independent_variables=['CRIM', 'ZN', 'INDUS', 'CHAS', 'NOX', 'RM', 'AGE', 'DIS', 'RAD', 'TAX', \n",
        "                       'PTRATIO','B', 'LSTAT' ]\n",
        "target_variable='MDEV'\n",
        "\n",
        "X = df[independent_variables]\n",
        "y=df[target_variable]\n",
        "\n",
        "#df.info()\n",
        "#X.info()\n",
        "#y.info()\n",
        "\n",
        "# Convert to numpy array\n",
        "X_numpy = np.array(X)\n",
        "y_numpy=np.array(y)\n",
        "\n",
        "print(type(X_numpy))\n",
        "print(type(y_numpy))\n",
        "\n"
      ],
      "execution_count": null,
      "outputs": [
        {
          "output_type": "stream",
          "text": [
            "<class 'numpy.ndarray'>\n",
            "<class 'numpy.ndarray'>\n"
          ],
          "name": "stdout"
        }
      ]
    },
    {
      "cell_type": "code",
      "metadata": {
        "id": "CMqakMxDnBdF"
      },
      "source": [
        "#Data Splitting\n",
        "from sklearn.model_selection import train_test_split\n",
        "X_train, X_test, y_train, y_test = train_test_split(X_numpy, y_numpy, test_size=0.2, random_state=1)\n",
        "#X_train, X_val, y_train, y_val = train_test_split(X_train, y_train, test_size=0.2, random_state=1)\n"
      ],
      "execution_count": null,
      "outputs": []
    },
    {
      "cell_type": "code",
      "metadata": {
        "id": "SfsekiG-nBdG",
        "outputId": "7ce23a9d-6169-47ee-d760-46e743a2d05d"
      },
      "source": [
        "from sklearn.tree import DecisionTreeRegressor\n",
        "from sklearn.ensemble import RandomForestRegressor\n",
        "\n",
        "num_trees=5\n",
        "dt_model = RandomForestRegressor(random_state=1, max_depth= 8, max_samples=300, max_features=6, n_estimators=num_trees)\n",
        "\n",
        "#Fit RandomForestRegressor model\n",
        "dt_model.fit(X_train, y_train)\n",
        "\n",
        "print(\"Making predictions for the following in train set:\")\n",
        "predicted_values=dt_model.predict(X_train[0:10,:])\n",
        "true_values=y_train[0:10]\n",
        "print(\"True values are \",true_values)\n",
        "print(\"The predicted values are\", predicted_values)\n",
        "print(\"Diff\", predicted_values-true_values)\n",
        "\n",
        "\n",
        "print(\"Making predictions for the following in testing set:\")\n",
        "predicted_values=dt_model.predict(X_test[0:10,:])\n",
        "true_values=y_test[0:10]\n",
        "print(\"True values are \",true_values)\n",
        "print(\"The predicted values are\", predicted_values)\n",
        "print(\"Diff\", predicted_values-true_values)\n",
        "\n",
        "# Average training error\n",
        "dfTrain=y_train-dt_model.predict(X_train)\n",
        "print(\"Average Train error \", np.absolute(dfTrain).mean())\n",
        "\n",
        "# Average val error\n",
        "#dfVal=y_val-dt_model.predict(X_val)\n",
        "#print(\"Average val error \", dfVal.abs().mean())\n",
        "#print(\"Average val error \", np.absolute(dfVal).mean())\n",
        "\n",
        "# Average test error\n",
        "dfTest=y_test-dt_model.predict(X_test)\n",
        "print(\"Average test error \", np.absolute(dfTest).mean())"
      ],
      "execution_count": null,
      "outputs": [
        {
          "output_type": "stream",
          "text": [
            "Making predictions for the following in train set:\n",
            "True values are  [24.4 26.5 13.1 20.6 24.3 28.  20.  26.2 19.2 26.6]\n",
            "The predicted values are [23.77191397 23.92077583 14.68666667 16.23       20.95167906 24.27410001\n",
            " 21.0552862  25.10887701 20.18263993 25.64887578]\n",
            "Diff [-0.62808603 -2.57922417  1.58666667 -4.37       -3.34832094 -3.72589999\n",
            "  1.0552862  -1.09112299  0.98263993 -0.95112422]\n",
            "Making predictions for the following in testing set:\n",
            "True values are  [22.5 12.1 23.5 30.3 24.4  7.  24.3 14.1 23.6 22.5]\n",
            "The predicted values are [20.68408333 12.79722222 27.31130435 31.112      21.08091667 13.31552381\n",
            " 21.5943115  14.3534127  25.42588889 27.02888889]\n",
            "Diff [-1.81591667  0.69722222  3.81130435  0.812      -3.31908333  6.31552381\n",
            " -2.7056885   0.2534127   1.82588889  4.52888889]\n",
            "Average Train error  1.4052147848427288\n",
            "Average test error  2.6037237304503242\n"
          ],
          "name": "stdout"
        }
      ]
    },
    {
      "cell_type": "code",
      "metadata": {
        "id": "X5vNwgKtnBdH"
      },
      "source": [
        "from sklearn.tree import export_graphviz\n",
        "# Export as dot file\n",
        "\n",
        "fn=independent_variables\n",
        "\n",
        "for index in range(0, num_trees):\n",
        "    export_graphviz(dt_model.estimators_[index], out_file='tree'+str(index)+'_.dot', \n",
        "                feature_names = fn, \n",
        "                rounded = True, proportion = False, \n",
        "                precision = 2, filled = True)"
      ],
      "execution_count": null,
      "outputs": []
    }
  ]
}